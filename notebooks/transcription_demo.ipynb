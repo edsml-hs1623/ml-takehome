{
  "cells": [
    {
      "cell_type": "markdown",
      "metadata": {},
      "source": [
        "# Transcription Experiment\n",
        "\n",
        "This notebook demonstrates the choice of transcriber used for the project considering the resources at hand.\n",
        "\n",
        "\n",
        "## Decision\n",
        "1. Framework : **OpenAI Whisper** \n",
        "2. Model : **hybrid method** (medium model with GPU acceleration / base model with CPU fallback)"
      ]
    },
    {
      "cell_type": "markdown",
      "metadata": {},
      "source": [
        "### Step0: Framework Choice\n",
        "    \n",
        "1. OpenAI Whisper\n",
        "    \n",
        "    Pros: \n",
        "        \n",
        "    - open source\n",
        "    - high accuracy (multi-languages, long conversation)\n",
        "    - support CPU/GPU\n",
        "    - full pipeline (can output transcript without processing)\n",
        "        \n",
        "    Cons: \n",
        "\n",
        "    - large models are computational expensive\n",
        "    - limited capabilities compared to commercial APIs\n",
        "\n",
        "2. HuggingFace Whisper\n",
        "    - built on OpenAI Whisper, adds extra dependency without major accuracy improvements\n",
        "\n",
        "3. Assembly AI\n",
        "    - not considered here since it requires paid commercial API keys\n",
        "\n",
        "\n",
        "**Framework Conclusion : OpenAI Whisper**\n",
        "\n"
      ]
    },
    {
      "cell_type": "markdown",
      "metadata": {},
      "source": [
        "### Step1 : Env and Device Setup "
      ]
    },
    {
      "cell_type": "code",
      "execution_count": 1,
      "metadata": {},
      "outputs": [],
      "source": [
        "# !pip install git+https://github.com/openai/whisper.git\n",
        "# !pip install torch torchaudio\n",
        "# !pip install ffmpeg-python  # Python wrapper for ffmpeg\n",
        "\n",
        "import os\n",
        "import whisper\n",
        "import torch\n",
        "import time\n",
        "import psutil\n",
        "from pathlib import Path\n",
        "import pandas as pd\n",
        "import numpy as np"
      ]
    },
    {
      "cell_type": "code",
      "execution_count": 30,
      "metadata": {},
      "outputs": [
        {
          "name": "stdout",
          "output_type": "stream",
          "text": [
            "Using device: cpu\n"
          ]
        }
      ],
      "source": [
        "AUDIO_PATH = Path(\"../sample_data/sample_audio.wav\")\n",
        "DEVICE = \"cuda\" if torch.cuda.is_available() else \"cpu\"\n",
        "\n",
        "print(f\"Using device: {DEVICE}\")"
      ]
    },
    {
      "cell_type": "markdown",
      "metadata": {},
      "source": [
        "### Step2 : Define a custom function for transcription"
      ]
    },
    {
      "cell_type": "code",
      "execution_count": 31,
      "metadata": {},
      "outputs": [],
      "source": [
        "def get_memory_usage_mb():\n",
        "    \"\"\"Return current memory usage (MB) of this process.\"\"\"\n",
        "    process = psutil.Process(os.getpid())\n",
        "    return process.memory_info().rss / (1024 * 1024)"
      ]
    },
    {
      "cell_type": "code",
      "execution_count": 32,
      "metadata": {},
      "outputs": [],
      "source": [
        "def transcribe_audio(audio_path, model_size, device=DEVICE):\n",
        "    \"\"\"\n",
        "    Transcribe audio using OpenAI Whisper\n",
        "    \n",
        "    Args:\n",
        "        audio_path (str or Path): path to audio file\n",
        "        model_size (str): tiny, base, small, medium, large\n",
        "        device (str): \"cpu\" or \"cuda\"\n",
        "    \n",
        "    Returns:\n",
        "        transcript (str)\n",
        "        elapsed_time (float)\n",
        "        peak_memory_mb (float)\n",
        "    \"\"\"\n",
        "    # record memory before and after loading model\n",
        "    mem_before = get_memory_usage_mb()\n",
        "    \n",
        "    model = whisper.load_model(model_size, device=device)\n",
        "    \n",
        "    mem_after_load = get_memory_usage_mb()\n",
        "\n",
        "    start_time = time.time()\n",
        "    result = model.transcribe(str(audio_path))\n",
        "    elapsed_time = time.time() - start_time\n",
        "\n",
        "    # record memory after transcription to calculate peak memory\n",
        "    mem_after_transcribe = get_memory_usage_mb()\n",
        "\n",
        "    transcript = result[\"text\"]\n",
        "\n",
        "    peak_memory_mb = max(mem_before, mem_after_load, mem_after_transcribe)\n",
        "\n",
        "    print(f\"Transcription done in {elapsed_time:.2f} sec, \"\n",
        "          f\"Peak Memory: {peak_memory_mb:.1f} MB\")\n",
        "\n",
        "    return transcript, elapsed_time, peak_memory_mb"
      ]
    },
    {
      "cell_type": "markdown",
      "metadata": {},
      "source": [
        "### Step3: Try Different Model Size"
      ]
    },
    {
      "cell_type": "code",
      "execution_count": 35,
      "metadata": {},
      "outputs": [
        {
          "name": "stdout",
          "output_type": "stream",
          "text": [
            "\n",
            "=== Model: tiny ===\n"
          ]
        },
        {
          "name": "stderr",
          "output_type": "stream",
          "text": [
            "/Users/hansonshen/Python/ml-takehome/venv/lib/python3.12/site-packages/whisper/transcribe.py:132: UserWarning: FP16 is not supported on CPU; using FP32 instead\n",
            "  warnings.warn(\"FP16 is not supported on CPU; using FP32 instead\")\n"
          ]
        },
        {
          "name": "stdout",
          "output_type": "stream",
          "text": [
            "Transcription done in 9.89 sec, Peak Memory: 696.8 MB\n",
            "Preview:\n",
            " So let's take it past the point where you have the scales, you have reusable ship. Yeah. You've got it dialed in, then what are the steps? What's next step after that? Is it an unmanned voyage tomorr\n",
            "\n",
            "=== Model: base ===\n"
          ]
        },
        {
          "name": "stderr",
          "output_type": "stream",
          "text": [
            "/Users/hansonshen/Python/ml-takehome/venv/lib/python3.12/site-packages/whisper/transcribe.py:132: UserWarning: FP16 is not supported on CPU; using FP32 instead\n",
            "  warnings.warn(\"FP16 is not supported on CPU; using FP32 instead\")\n"
          ]
        },
        {
          "name": "stdout",
          "output_type": "stream",
          "text": [
            "Transcription done in 18.33 sec, Peak Memory: 913.5 MB\n",
            "Preview:\n",
            " So let's let's take it past the point where you have these scales you have a reusable ship Yeah, and you've you've got it dialed in then what are the steps? What what's next step after that is it an \n",
            "\n",
            "=== Model: small ===\n"
          ]
        },
        {
          "name": "stderr",
          "output_type": "stream",
          "text": [
            "/Users/hansonshen/Python/ml-takehome/venv/lib/python3.12/site-packages/whisper/transcribe.py:132: UserWarning: FP16 is not supported on CPU; using FP32 instead\n",
            "  warnings.warn(\"FP16 is not supported on CPU; using FP32 instead\")\n"
          ]
        },
        {
          "name": "stdout",
          "output_type": "stream",
          "text": [
            "Transcription done in 45.26 sec, Peak Memory: 1528.1 MB\n",
            "Preview:\n",
            " So let's let's take it past the point where you have these scales you have a reusable ship Yeah, and you've got it dialed in then what are the steps? What what's next step after that? Is it an unmann\n",
            "\n",
            "=== Model: medium ===\n"
          ]
        },
        {
          "name": "stderr",
          "output_type": "stream",
          "text": [
            "/Users/hansonshen/Python/ml-takehome/venv/lib/python3.12/site-packages/whisper/transcribe.py:132: UserWarning: FP16 is not supported on CPU; using FP32 instead\n",
            "  warnings.warn(\"FP16 is not supported on CPU; using FP32 instead\")\n"
          ]
        },
        {
          "name": "stdout",
          "output_type": "stream",
          "text": [
            "Transcription done in 142.29 sec, Peak Memory: 4594.5 MB\n",
            "Preview:\n",
            " So let's let's take it past the point where you have these scales you have a reusable Ship yeah, and you've got it dialed in then. What are the steps? What what's next step after that is it an unmann\n"
          ]
        }
      ],
      "source": [
        "models_to_test = [\"tiny\", \"base\", \"small\", \"medium\"]  # large might be too much for CPU (expected 5 GB of memory)\n",
        "\n",
        "results = {}\n",
        "\n",
        "for model_name in models_to_test:\n",
        "    print(f\"\\n=== Model: {model_name} ===\")\n",
        "    transcript, elapsed, peak_memory_mb = transcribe_audio(AUDIO_PATH, model_size=model_name, device=DEVICE)\n",
        "    results[model_name] = {\n",
        "        \"transcript\": transcript,\n",
        "        \"time_sec\": elapsed,\n",
        "        \"peak_memory_mb\": peak_memory_mb\n",
        "    }\n",
        "    print(\"Preview:\\n\" + transcript[:200])  # preview the first 200 characters"
      ]
    },
    {
      "cell_type": "markdown",
      "metadata": {},
      "source": [
        "### Step4 : Compare the Results"
      ]
    },
    {
      "cell_type": "code",
      "execution_count": null,
      "metadata": {},
      "outputs": [
        {
          "data": {
            "text/html": [
              "<div>\n",
              "<style scoped>\n",
              "    .dataframe tbody tr th:only-of-type {\n",
              "        vertical-align: middle;\n",
              "    }\n",
              "\n",
              "    .dataframe tbody tr th {\n",
              "        vertical-align: top;\n",
              "    }\n",
              "\n",
              "    .dataframe thead th {\n",
              "        text-align: right;\n",
              "    }\n",
              "</style>\n",
              "<table border=\"1\" class=\"dataframe\">\n",
              "  <thead>\n",
              "    <tr style=\"text-align: right;\">\n",
              "      <th></th>\n",
              "      <th>model</th>\n",
              "      <th>time_sec</th>\n",
              "      <th>peak_memory_mb</th>\n",
              "      <th>transcript_preview</th>\n",
              "    </tr>\n",
              "  </thead>\n",
              "  <tbody>\n",
              "    <tr>\n",
              "      <th>0</th>\n",
              "      <td>tiny</td>\n",
              "      <td>9.892284</td>\n",
              "      <td>696.750000</td>\n",
              "      <td>So let's take it past the point where you hav...</td>\n",
              "    </tr>\n",
              "    <tr>\n",
              "      <th>1</th>\n",
              "      <td>base</td>\n",
              "      <td>18.327907</td>\n",
              "      <td>913.500000</td>\n",
              "      <td>So let's let's take it past the point where y...</td>\n",
              "    </tr>\n",
              "    <tr>\n",
              "      <th>2</th>\n",
              "      <td>small</td>\n",
              "      <td>45.264171</td>\n",
              "      <td>1528.140625</td>\n",
              "      <td>So let's let's take it past the point where y...</td>\n",
              "    </tr>\n",
              "    <tr>\n",
              "      <th>3</th>\n",
              "      <td>medium</td>\n",
              "      <td>142.289918</td>\n",
              "      <td>4594.484375</td>\n",
              "      <td>So let's let's take it past the point where y...</td>\n",
              "    </tr>\n",
              "  </tbody>\n",
              "</table>\n",
              "</div>"
            ],
            "text/plain": [
              "    model    time_sec  peak_memory_mb  \\\n",
              "0    tiny    9.892284      696.750000   \n",
              "1    base   18.327907      913.500000   \n",
              "2   small   45.264171     1528.140625   \n",
              "3  medium  142.289918     4594.484375   \n",
              "\n",
              "                                  transcript_preview  \n",
              "0   So let's take it past the point where you hav...  \n",
              "1   So let's let's take it past the point where y...  \n",
              "2   So let's let's take it past the point where y...  \n",
              "3   So let's let's take it past the point where y...  "
            ]
          },
          "execution_count": 37,
          "metadata": {},
          "output_type": "execute_result"
        }
      ],
      "source": [
        "# compare the time and memory usage of different models\n",
        "summary_df = pd.DataFrame([\n",
        "    {\"model\": m, \n",
        "     \"time_sec\": results[m][\"time_sec\"], \n",
        "     \"peak_memory_mb\": results[m][\"peak_memory_mb\"], \n",
        "     \"transcript_preview\": results[m][\"transcript\"][:80]}\n",
        "    for m in results\n",
        "])\n",
        "\n",
        "summary_df"
      ]
    },
    {
      "cell_type": "code",
      "execution_count": 40,
      "metadata": {},
      "outputs": [
        {
          "name": "stdout",
          "output_type": "stream",
          "text": [
            "Model: tiny\n",
            "Transcript:  So let's take it past the point where you have the scales, you have reusable ship. Yeah. You've got it dialed in, then what are the steps? What's next step after that? Is it an unmanned voyage tomorrow's first? I'm Anne Fliedamores. The Earth and Mars will be synchronized every two years. Or every 26 months, technically. So the next orbital synchronization is November of next year. So, and you can launch plus minus a month roughly. So we'd have to launch in November or December of next year. And so the default plan is to launch hopefully several starships tomorrow at the end of next year. And what would they be doing? Well, at first we're just going to try to land on Mars and see if we succeed in landing. Do we do we succeed in landing? Like let's say we were able to send five ships to all five land intact or do we add some creators to Mars? If we add some creators, we've got to be put more courses about setting people. You know, we need to. So we're going to make sure the thing lands safely. How does it land on Mars? With on rocket thrusters. So it'll just land. We'll add legs. Okay. I'll just land and have legs in the air. So it'll be remote controlled from Earth. Or just autonomous autonomous completely. Mars is you can't remote control things from both because Mars. Mars is far. Yeah, it's too far. It's beautiful light constraints. So Mars at closest approaches roughly four light minutes. And when it's on the other side of the sun, it's about 12 light minutes. So you know, round trip would be like 40 minutes. Press case. If Mars is on the other side of the sun. So once you do that, then how long do you think before you start sending people up there? What we're going to try to go as fast as possible. You can think this is really. Erase against time. Can we make Mars self sufficient before. Civilization has some sort of. Future folk in the road where there's either like a war, nuclear war or something or a. We'll get hit by a meteor. Or simply, civilization might just die with a whimper in adult diapers instead of with a bang. I think we can do this and. Well, I don't know at least I think we've built within 15 earthmoss. Inconciliation event or you know, so it's like 30. Years. If we have an exponential increase in. If if every year, if every two years, we have like a major increase in. Number of people in town is tomorrow's. I think as a rough approximation, we need about a million tons of the so far as maybe a million people. That kind of thing to actually have a civilization. Yeah, that that would you terraform like what would you do you would eventually. Terrible moss at first people would live in some kind of protected environment like domes and underground. Kind of thing. Charafoing would take too long. I mean, we're at this point in time. Where. In the for the first time in the four and a half billion year history of earth. It is possible to extend consciousness beyond our home planet. And that window may be open for a long time or maybe open for a short time. I hope it's open for a long time. But it might only be open for a short time. And we just make sure that we extend the light of consciousness tomorrow. Before some. Before civilization. Either extinguishes or subsides. You know, all that and all that. Any's evidence that the technology level of Mars drops below. Or technology level of earth drops below what is necessary to send spaceships to Mars. So. If there's some really destructive war or like said some natural cataclysm. Or or simply the birth rate is so low that. You know, we we just like said die in adult diapers with a one per. That's one of the possible outcomes for a lot of countries ahead of that way. So Japan is right Japan. Yeah. Yeah. I mean, at at dangerously. Yeah, at current birth rates in three generations. Korea will be about 4% of its current size. That's insane. Yeah, maybe maybe even less than that. There are only at one third of placement rates. If you have three generations that one that's your one twenty-seventh. Of your current population, which is three percentish. Jesus Christ. Yeah. Basically population collapse happens fast. So. And seems to be accelerating in most possible. So basically, I mean, for my same one, I'm like. This is the first time it's been possible to extend life. You extend consciousness beyond earth. Maybe that went over you open for a long time. But I might only be open for a short time. We should make sure that we make life multi-planetary and make consciousness multi-planetary while it's possible.\n",
            "\n",
            "\n",
            "Model: base\n",
            "Transcript:  So let's let's take it past the point where you have these scales you have a reusable ship Yeah, and you've you've got it dialed in then what are the steps? What what's next step after that is it an unmanned Voyage to Mars first. I'm an flight of Mars the Earth and Mars Orbit synchronize every two years or every 26 months technically so The next orbital synchronization is November of next year So and you can launch plus minus a month roughly so we'd have to launch in November or December of next year so the default plan is to launch hopefully several Starships to Mars at the end of next year And what would they be doing? Well at first we're just gonna try to land on Mars and see if we succeed in landing Do we succeed in landing like let's say we were able to send five ships do all five land intact or do we? Add some craters to Mars If we add some craters we've got to be But more cautious about sending people, you know, and we need to So we're gonna make sure the thing lands Safely how does it land on Mars with on rocket's restors? So it'll just land. Oh, well add legs. Okay. Yeah, we'll just land and have legs and yeah, so It'll be remote controlled from Earth Or just autonomous autonomous completely Mars is you can't remote control things from both because Mars. Yeah, it's too far speed of light you have speed of light constraints so Mars at closest approaches roughly four light minutes and When it's on the other side of the Sun it's it's about 12 light minutes, so you know round trip would be like 40 minutes best case if Mars is on the other side of the Sun So once you do that then how long do you think before you start sending people up there? Well, we're gonna try to go as fast as possible. You can think this is really Erase against time can we make Mars self-sufficient before Civilization has some sort of Future fork in the road where there's either like a war or nuclear war or something or a We'll get hit by a meteor Or or simply civilization might just die with a Womper in adult diapers instead of with a bang I Think we can do this and I don't know at least I think we do it within 15 Earth Mars Inquanization events or you know, so we select 30ish years If we have an exponential increase in If every year if every two years we're we have like a major increase in Number of people and tonished Mars like I think as a rough approximation We need about a million tons of the surface of Mars maybe a million people that kind of thing To actually have a civilization Yeah, the The would you terraform like what would you do you would eventually terraform Mars at first people would live in Some kind of protected environment like domes and underground kind of thing Terraforming would take too long I were at this point in time where In the for the first time in the four and a half billion year history of Earth It is possible to extend Consciousness beyond our home planet and That window may be open for long time or it may be open for a short time. I hope it's open for a long time but it might only be open for a short time and we just make sure that we extend the light of consciousness to Mars before Civilization either extinguishes or subsides You know, we'll let me let any Savon is that the technology level of Mars drops below or technology level of Earth drops below what is necessary to send space ships to Mars so If there's some really destructive war or like some natural cataclysm Or simply the birth rate is so low that you know here We're just like to die in In adult diapers with a one per that's one of the possible outcomes for a lot of countries ahead of that way By the way, so Japan is right? Japan Korea yeah, yeah, I mean at dangerously yeah at current birth rates in three generations Korea will be about 4% of its current size That's insane. Yeah, maybe maybe even less than that There they're only at one third replacement rate so if you if you have three generations that want that's your 127th Of your current population, which is three percentish Jesus Christ yeah Basically population collapse happens fast So and seems to be accelerating in most parts of the world So so basically I mean for myself when I'm like This is the first time it's been possible to extend life you extend consciousness beyond Earth Maybe that window will be open for a long time, but it might only be open for a short time We should make sure that we make life multi planetary and make consciousness multi planetary while it's possible\n",
            "\n",
            "\n",
            "Model: small\n",
            "Transcript:  So let's let's take it past the point where you have these scales you have a reusable ship Yeah, and you've got it dialed in then what are the steps? What what's next step after that? Is it an unmanned? Vert or voyage to Mars first? I'm an flight of Mars the Earth and Mars Or would synchronize every two years Or every 26 months technically so the next orbital synchronization is November of next year So and you can launch plus minus a month roughly so we'd have to launch in November or December of next year that's so the default plan is to launch hopefully several Starships to Mars at the end of next year and what would they be doing? Well at first we're just gonna Try to land on Mars and see if we succeed in landing Do we succeed in landing? Like let's say we were able to send five ships do all five land intact or do we add some craters to Mars? If we add some craters we've got to be a bit more cautious about setting people you know if we need to So we're gonna make sure the thing lands Safely how does it land on Mars? With our rockets rusters, so it'll just land. Oh, we'll add legs. Okay. Yeah, I just land and have legs and yeah, so It'll be remote controlled from Earth Or just autonomous autonomous completely Mars is you can't remote control things from earth because Mars far. Yeah, it's too far speed of light. Yes, be like constraints. So Mars at closest approach is roughly four light minutes and When it's on the other side of the Sun, it's it's about 12 light minutes. So, you know round trip would be like 40 minutes Best case if Mars is on the other side of the Sun So once you do that then how long do you think before you start sending people up there? Well, we're gonna try to go as fast as possible you can think of this is really a Race against time. Can we make Mars? Self-sufficient before Civilization has some sort of Future folk in the road where there's either like a war nuclear war or something or a We'll get hit by a meteor Or or simply so the civilization might just die with a whimper in adult diapers instead of with a bang I think we can do this and Well, I don't know at least I think we do it within 15 earth Mars synchronization events or you know, so basically like 30 years if We have an exponential increase in If every year if every two years we have like a major increase in Number of people and tundish to Mars like I think as a rough approximation We need about a million tons this of some Mars maybe a million people that kind of thing to actually have a civilization Yeah, the that would you terraform like what would you do you would eventually terraform Mars at first people would live in Some kind of protected environment like domes and underground and kind of thing Terraforming would take too long And we're at this point in time where In the for the first time in the four and a half billion year history of earth it is possible to extend consciousness beyond our home planet and That window may be open for a long time or it may be open for a short time. I hope it's open for a long time but it might only be open for a short time and We should just make sure that we extend the light of consciousness to Mars before some Before civilization either extinguishes or subsides You know it will let me let any saviours that the Technology level of Mars drops below or technology level of earth drops below what is necessary to send space ships to Mars so If there's some really destructive war or like said some natural cataclysm or simply the birth rate is so low that you know We just likes to die In adult diapers with a whimper. That's one of the possible outcomes A lot of countries ahead of that way by the way, Japan is right Japan. Yeah, yeah, I mean at dangerously Yeah, at current both rates in three generations Korea will be about four percent of its current size That's insane. Yeah, maybe maybe even less than that There they're only at one third replacement rates if you if you have three generations that one that's your 127th Of your current population, which is three percent dish Jesus Christ. Yeah basically population class happens fast So it seems to be accelerating in most parts of the world So so basically I mean for myself when I'm like This is the first time it's been possible to extend life Extend consciousness beyond earth Maybe that window will be open for a long time, but it might only be open for a short time We should make sure that we make life multi planetary and make consciousness multi planetary while it's possible\n",
            "\n",
            "\n",
            "Model: medium\n",
            "Transcript:  So let's let's take it past the point where you have these scales you have a reusable Ship yeah, and you've got it dialed in then. What are the steps? What what's next step after that is it an unmanned? Ver voyage to Mars first I'm and flight of Mars the Earth and Mars Orbit synchronized every two years Or every 26 months technically so the next orbital synchronization is November of next year So and you can launch plus minus a month roughly so we'd have to launch in November or December of next year and so the default plan is to launch hopefully several Starships to Mars at the end of next year and what would they be doing? Well at first we're just gonna Try to land on Mars and see if we succeed in landing Do we succeed in landing? Like let's say we were able to send five ships do all five land intact or do we add some craters to Mars? If we add some craters we've got to be a bit more cautious about sending people you know we need to So we're gonna make sure the thing lands Safely how does it land on Mars with our rocket thrusters, so it'll just land No, we'll add legs. Okay. Yeah, I just land and have legs and yeah, so It'll be remote controlled from Earth Or just autonomous autonomous completely Mars is you can't remote control things from Earth because Mars. Yes too far speed of light. You have speed of light constraints, so Mars at closest approach is roughly four light minutes and When it's on the other side of the Sun, it's it's about 12 light minutes So you know round trip would be like 40 minutes best case if Mars is on the other side of the Sun. Mm-hmm So once you do that, then how long do you think before you start sending people up there? Well, we're gonna try to go as fast as possible You think this is really A race against time can we make Mars self-sufficient before Civilization has some sort of Future folk in the road where there's either like a war nuclear war or something or a We'll get hit by a meteor Or simply civilization might just die with a whimper in adult diapers instead of with a bang I Think we can do this and Why don't at least I think we do it within 15 Earth Mars synchronization events or you know, so basically like 30 ish years If We have an exponential increase in If every year if every two years we have like a major increase in Number of people and tundish to Mars like I think as a rough approximation We need about a million tons the surface of Mars maybe a million people that kind of thing to actually have a civilization Yeah, the Would you terraform like what would you do? You would eventually terraform Mars at first people would live in some kind of protected environment like domes and underground kind of thing Terraforming would take too long And we're at this point in time where In the for the first time in the four and a half billion year history of Earth. It is possible to extend Consciousness beyond our home planet and That window may be open for a long time or it may be open for a short time. I hope it's open for a long time but it might only be open for a short time and We should just make sure that we extend the light of consciousness to Mars Before some Before civilization either extinguishes or subsides You know, we'll let any Any savannas that the technology level of Mars drops below or technology level of Earth drops below What is necessary to send spaceships to Mars? So If there's some really destructive war or like said some natural cataclysm Or simply the birth rate is so low that you know here We just like to die In adult diapers with a whimper that's one of the possible outcomes For a lot of countries ahead of that way, by the way, Japan is right Japan Korea. Yeah I mean Dangerously. Yeah at current birth rates in three generations Korea will be about four percent of its current size That's insane. Yeah, maybe even less than that Yeah, maybe maybe even less than that There there are only at one third replacement rate. So if you have three generations that one that's your 127th Of your current population, which is three percent dish Jesus Christ, yeah, basically population collapse happens fast So and seems to be accelerating in most parts of the world So so basically I mean from my standpoint I'm like This is the first time it's been possible to extend life extend consciousness beyond Earth Maybe that window will be open for a long time, but it might only be open for a short time We should make sure that we make life multi-planetary and make consciousness multi-planetary while it's possible\n",
            "\n",
            "\n"
          ]
        }
      ],
      "source": [
        "# show all results and compare the the full content of the transcript\n",
        "for m in results:\n",
        "    print(f\"Model: {m}\")\n",
        "    print(f\"Transcript: {results[m]['transcript']}\")\n",
        "    print(\"\\n\")"
      ]
    },
    {
      "cell_type": "markdown",
      "metadata": {},
      "source": [
        "### Observation (3 aspects to consider)\n",
        "\n",
        "1.\tExecution Performance (Latency & Memory)\n",
        "- Tiny and base model sizes are CPU-friendly and good for fast prototyping, with execution time < 20s and memory < 1024MB\n",
        "- Small and medium models take much longer (45/142s) and requires substantially more memory (1.5/4.6 GB)\n",
        "- Trade-off: larger models significantly increase both runtime and memory usage and therefore require to be run on GPU or cloud for practical development\n",
        "\n",
        "2.\tTranscription Quality (Accuracy & Robustness)\n",
        "- Tiny： \"So let’s take it ...\" → an understanable prototype but slightly less consistent\n",
        "- Base/Small/Medium： \"So let’s let’s take ...\" → better capture the repetitive words the speaker said, showing improved fluency and stability\n",
        "- The medium model is expected to yield the best accuracy overall, though at a very high computational cost.\n",
        "\n",
        "3.\tTask Requirements (Practical Fit and Pipeline Design)\n",
        "- If the goal is fast prototyping or CPU-only environments, tiny or base strikes the best balance\n",
        "- If accuracy is critical and GPU resources are available, small or medium may be justified despite the extra cost\n",
        "- Since the next step in the pipeline is Topic Extraction, the \"perfect\" quality of the transcription is not the priority; instead, the ability to capture most of the content is\n",
        "\n",
        "\n",
        "### Trade-off and Conclusion\n",
        "\n",
        "For the pipeline, a hybrid method is used. (DEVICE = \"cuda\" if torch.cuda.is_available() else \"cpu\")\n",
        "- **Base** is chosen as the default model, offering the best trade-off between speed and accuracy on CPU. \n",
        "- **Medium** is used when GPU resources are available, ensuring the system remains scalable and hardware-aware."
      ]
    },
    {
      "cell_type": "markdown",
      "metadata": {},
      "source": []
    }
  ],
  "metadata": {
    "kernelspec": {
      "display_name": "venv",
      "language": "python",
      "name": "python3"
    },
    "language_info": {
      "codemirror_mode": {
        "name": "ipython",
        "version": 3
      },
      "file_extension": ".py",
      "mimetype": "text/x-python",
      "name": "python",
      "nbconvert_exporter": "python",
      "pygments_lexer": "ipython3",
      "version": "3.12.2"
    }
  },
  "nbformat": 4,
  "nbformat_minor": 2
}
